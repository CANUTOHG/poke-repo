{
 "cells": [
  {
   "cell_type": "markdown",
   "id": "0a3c56dc",
   "metadata": {},
   "source": [
    "## Ejemplo de md"
   ]
  },
  {
   "cell_type": "code",
   "execution_count": 1,
   "id": "3ff34e97",
   "metadata": {},
   "outputs": [
    {
     "name": "stdout",
     "output_type": "stream",
     "text": [
      "0\n",
      "1\n",
      "2\n",
      "3\n",
      "4\n",
      "5\n",
      "6\n"
     ]
    }
   ],
   "source": [
    "i: int = 0\n",
    "while(i <= 6): \n",
    "  print(i)\n",
    "  i = i + 1 # Similar a i += 1"
   ]
  },
  {
   "cell_type": "markdown",
   "id": "3ae415d5",
   "metadata": {},
   "source": [
    "Este es un ejemplo de *do-while*"
   ]
  },
  {
   "cell_type": "code",
   "execution_count": 2,
   "id": "1227d82c",
   "metadata": {},
   "outputs": [
    {
     "name": "stdout",
     "output_type": "stream",
     "text": [
      "El entero corresponde al caracter P\n"
     ]
    }
   ],
   "source": [
    "flag: bool = True\n",
    "while flag or (num < 65 or num > 90):\n",
    "  flag = False\n",
    "  num = int(input(\"Ingrese un entero: \"))\n",
    "  print(\"El entero corresponde al caracter \" + chr(num))"
   ]
  },
  {
   "cell_type": "code",
   "execution_count": 4,
   "id": "6c865770",
   "metadata": {},
   "outputs": [
    {
     "name": "stdout",
     "output_type": "stream",
     "text": [
      "1\n",
      "2\n",
      "3\n",
      "4\n"
     ]
    }
   ],
   "source": [
    "i: int = 0\n",
    "while(i < 10): \n",
    "  i += 1 \n",
    "  if i == 5: \n",
    "    break\n",
    "  print(i)"
   ]
  },
  {
   "cell_type": "code",
   "execution_count": 6,
   "id": "5a5a32e6",
   "metadata": {},
   "outputs": [
    {
     "name": "stdout",
     "output_type": "stream",
     "text": [
      "Tomate de arbol 15\n",
      "Maracuya 8\n",
      "Guayaba 7\n"
     ]
    }
   ],
   "source": [
    "fruits = [\"Tomate de arbol\", \"Maracuya\", \"Guayaba\"]\n",
    "for fruit in fruits:\n",
    "    print(fruit, len(fruit))"
   ]
  },
  {
   "cell_type": "code",
   "execution_count": 7,
   "id": "f7f465a0",
   "metadata": {},
   "outputs": [
    {
     "name": "stdout",
     "output_type": "stream",
     "text": [
      "True\n",
      "False\n"
     ]
    }
   ],
   "source": [
    "fruits = [\"Tomate de arbol\", \"Maracuya\", \"Guayaba\"]\n",
    "print(\"Maracuya\" in fruits)  # Salida: True\n",
    "print(\"Fresa\" in fruits)     # Salida: False"
   ]
  },
  {
   "cell_type": "code",
   "execution_count": 12,
   "id": "012582a3",
   "metadata": {},
   "outputs": [
    {
     "data": {
      "text/plain": [
       "[0,\n",
       " 5,\n",
       " 10,\n",
       " 15,\n",
       " 20,\n",
       " 25,\n",
       " 30,\n",
       " 35,\n",
       " 40,\n",
       " 45,\n",
       " 50,\n",
       " 55,\n",
       " 60,\n",
       " 65,\n",
       " 70,\n",
       " 75,\n",
       " 80,\n",
       " 85,\n",
       " 90,\n",
       " 95,\n",
       " 100]"
      ]
     },
     "execution_count": 12,
     "metadata": {},
     "output_type": "execute_result"
    }
   ],
   "source": [
    "list(range(0,101,5))"
   ]
  },
  {
   "cell_type": "code",
   "execution_count": 18,
   "id": "2ada854b",
   "metadata": {},
   "outputs": [
    {
     "name": "stdout",
     "output_type": "stream",
     "text": [
      "10\n",
      "9\n",
      "8\n",
      "7\n",
      "6\n",
      "5\n",
      "4\n",
      "3\n",
      "2\n",
      "1\n",
      "0\n"
     ]
    }
   ],
   "source": [
    "for num in range(10, -1, -1):\n",
    "    print(num)"
   ]
  },
  {
   "cell_type": "code",
   "execution_count": 19,
   "id": "dbd596ff",
   "metadata": {},
   "outputs": [],
   "source": [
    "empty_list = []\n",
    "mixed_list = [1, \"dos\", 3.0, [4, \"cinco\"]]"
   ]
  },
  {
   "cell_type": "code",
   "execution_count": 26,
   "id": "144a3478",
   "metadata": {},
   "outputs": [],
   "source": [
    "first_element = mixed_list[2]"
   ]
  },
  {
   "cell_type": "code",
   "execution_count": 27,
   "id": "ea466fd5",
   "metadata": {},
   "outputs": [
    {
     "data": {
      "text/plain": [
       "3.0"
      ]
     },
     "execution_count": 27,
     "metadata": {},
     "output_type": "execute_result"
    }
   ],
   "source": [
    "first_element"
   ]
  },
  {
   "cell_type": "code",
   "execution_count": 30,
   "id": "cac99d1c",
   "metadata": {},
   "outputs": [
    {
     "data": {
      "text/plain": [
       "3.0"
      ]
     },
     "execution_count": 30,
     "metadata": {},
     "output_type": "execute_result"
    }
   ],
   "source": [
    "1+2.0"
   ]
  },
  {
   "cell_type": "code",
   "execution_count": 28,
   "id": "3a51ac32",
   "metadata": {},
   "outputs": [
    {
     "data": {
      "text/plain": [
       "[1, 2, 3, 4, 5, 6]"
      ]
     },
     "execution_count": 28,
     "metadata": {},
     "output_type": "execute_result"
    }
   ],
   "source": [
    "new_list = [1, 2, 3] + [4, 5, 6]\n",
    "new_list"
   ]
  },
  {
   "cell_type": "code",
   "execution_count": 31,
   "id": "1508a761",
   "metadata": {},
   "outputs": [
    {
     "data": {
      "text/plain": [
       "12"
      ]
     },
     "execution_count": 31,
     "metadata": {},
     "output_type": "execute_result"
    }
   ],
   "source": [
    "2*6"
   ]
  },
  {
   "cell_type": "code",
   "execution_count": 39,
   "id": "74636b1a",
   "metadata": {},
   "outputs": [
    {
     "data": {
      "text/plain": [
       "[1, 2, 3, 1, 2, 3]"
      ]
     },
     "execution_count": 39,
     "metadata": {},
     "output_type": "execute_result"
    }
   ],
   "source": [
    "repeated_list = [1, 2, 3] * 2\n",
    "repeated_list"
   ]
  },
  {
   "cell_type": "code",
   "execution_count": 40,
   "id": "e15cfe55",
   "metadata": {},
   "outputs": [
    {
     "data": {
      "text/plain": [
       "[1, 'dos', 3.0, [4, 'cinco']]"
      ]
     },
     "execution_count": 40,
     "metadata": {},
     "output_type": "execute_result"
    }
   ],
   "source": [
    "mixed_list"
   ]
  },
  {
   "cell_type": "code",
   "execution_count": 49,
   "id": "a32eaaf2",
   "metadata": {},
   "outputs": [
    {
     "data": {
      "text/plain": [
       "[1, 'dos', 3.0]"
      ]
     },
     "execution_count": 49,
     "metadata": {},
     "output_type": "execute_result"
    }
   ],
   "source": [
    "sublist = mixed_list[0:-1]\n",
    "sublist\n"
   ]
  },
  {
   "cell_type": "code",
   "execution_count": 50,
   "id": "b874eb22",
   "metadata": {},
   "outputs": [
    {
     "data": {
      "text/plain": [
       "[1, 'dos', 3.0, 4]"
      ]
     },
     "execution_count": 50,
     "metadata": {},
     "output_type": "execute_result"
    }
   ],
   "source": [
    "sublist.append(4)\n",
    "sublist"
   ]
  },
  {
   "cell_type": "code",
   "execution_count": 54,
   "id": "22e3398b",
   "metadata": {},
   "outputs": [
    {
     "name": "stdout",
     "output_type": "stream",
     "text": [
      "1\n",
      "dos\n",
      "3.0\n",
      "4\n"
     ]
    }
   ],
   "source": [
    "for element in sublist:\n",
    "   print(element)"
   ]
  },
  {
   "cell_type": "code",
   "execution_count": 55,
   "id": "e1c9bd86",
   "metadata": {},
   "outputs": [
    {
     "name": "stdout",
     "output_type": "stream",
     "text": [
      "The Zen of Python, by Tim Peters\n",
      "\n",
      "Beautiful is better than ugly.\n",
      "Explicit is better than implicit.\n",
      "Simple is better than complex.\n",
      "Complex is better than complicated.\n",
      "Flat is better than nested.\n",
      "Sparse is better than dense.\n",
      "Readability counts.\n",
      "Special cases aren't special enough to break the rules.\n",
      "Although practicality beats purity.\n",
      "Errors should never pass silently.\n",
      "Unless explicitly silenced.\n",
      "In the face of ambiguity, refuse the temptation to guess.\n",
      "There should be one-- and preferably only one --obvious way to do it.\n",
      "Although that way may not be obvious at first unless you're Dutch.\n",
      "Now is better than never.\n",
      "Although never is often better than *right* now.\n",
      "If the implementation is hard to explain, it's a bad idea.\n",
      "If the implementation is easy to explain, it may be a good idea.\n",
      "Namespaces are one honking great idea -- let's do more of those!\n"
     ]
    }
   ],
   "source": [
    "import this"
   ]
  },
  {
   "cell_type": "code",
   "execution_count": 64,
   "id": "edb243e5",
   "metadata": {},
   "outputs": [],
   "source": [
    "def suma_dos_nums(x, y=10):\n",
    "    return x+y"
   ]
  },
  {
   "cell_type": "code",
   "execution_count": 65,
   "id": "7549933a",
   "metadata": {},
   "outputs": [
    {
     "name": "stdout",
     "output_type": "stream",
     "text": [
      "La suma de 1 y 2 es 11\n"
     ]
    }
   ],
   "source": [
    "if __name__ == \"__main__\":\n",
    "  a = int(input(\"Ingrese numero a: \"))\n",
    "  b = int(input(\"Ingrese numero b: \"))\n",
    "#   sumatory = (lambda x, y: x + y)(a,b)\n",
    "  sumatory = suma_dos_nums(x=a)\n",
    "  print(\"La suma de \" + str(a) + \" y \" + str(b) + \" es \" + str(sumatory))"
   ]
  },
  {
   "cell_type": "code",
   "execution_count": 57,
   "id": "6b45a4b9",
   "metadata": {},
   "outputs": [
    {
     "data": {
      "text/plain": [
       "3"
      ]
     },
     "execution_count": 57,
     "metadata": {},
     "output_type": "execute_result"
    }
   ],
   "source": [
    "sumatory"
   ]
  },
  {
   "cell_type": "markdown",
   "id": "350b5990",
   "metadata": {},
   "source": []
  },
  {
   "cell_type": "code",
   "execution_count": 66,
   "id": "0c93f593",
   "metadata": {},
   "outputs": [],
   "source": [
    "import pdb"
   ]
  },
  {
   "cell_type": "code",
   "execution_count": 70,
   "id": "d11465ef",
   "metadata": {},
   "outputs": [],
   "source": [
    "def add_all(**kwargs):\n",
    "    pdb.set_trace()\n",
    "    print(kwargs)"
   ]
  },
  {
   "cell_type": "code",
   "execution_count": null,
   "id": "131720c2",
   "metadata": {},
   "outputs": [
    {
     "name": "stdout",
     "output_type": "stream",
     "text": [
      "> \u001b[32mc:\\users\\gonza\\appdata\\local\\temp\\ipykernel_49788\\405551576.py\u001b[39m(\u001b[92m2\u001b[39m)\u001b[36madd_all\u001b[39m\u001b[34m()\u001b[39m\n",
      "\n",
      "{'a': 1, 'b': 2, 'c': 3}\n",
      "{'a': 1, 'b': 2, 'c': 3}\n",
      "None\n"
     ]
    }
   ],
   "source": [
    "print(add_all(a=1, b=2, c=3))\n"
   ]
  }
 ],
 "metadata": {
  "kernelspec": {
   "display_name": "Python 3",
   "language": "python",
   "name": "python3"
  },
  "language_info": {
   "codemirror_mode": {
    "name": "ipython",
    "version": 3
   },
   "file_extension": ".py",
   "mimetype": "text/x-python",
   "name": "python",
   "nbconvert_exporter": "python",
   "pygments_lexer": "ipython3",
   "version": "3.13.6"
  }
 },
 "nbformat": 4,
 "nbformat_minor": 5
}
